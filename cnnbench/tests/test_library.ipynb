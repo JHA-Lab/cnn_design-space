{
 "cells": [
  {
   "cell_type": "code",
   "execution_count": 1,
   "metadata": {},
   "outputs": [],
   "source": [
    "import os\n",
    "import sys\n",
    "sys.path.append('../')\n",
    "\n",
    "from library import Graph, GraphLib"
   ]
  },
  {
   "cell_type": "code",
   "execution_count": 3,
   "metadata": {},
   "outputs": [
    {
     "name": "stdout",
     "output_type": "stream",
     "text": [
      "\u001b[95mGraph Library with configurations:\u001b[0m\n",
      "{'dataset': 'CIFAR10', 'data_dir': '/scratch/gpfs/stuli/pytorch_datasets/', 'manual_dir': None, 'train_batch_size': 256, 'test_batch_size': 512, 'module_vertices': 3, 'head_vertices': 6, 'max_edges': 9, 'max_modules': 2, 'base_ops': ['conv5x5-bn-relu', 'conv3x3-bn-relu', 'conv1x1-bn-relu', 'maxpool3x3'], 'flatten_ops': ['global-avg-pool', 'flatten'], 'dense_ops': ['dense-1024', 'dense-4096', 'dropout-p5', 'dropout-p4'], 'hash_algo': 'sha256'}\n",
      "\u001b[95mNumber of graphs:\u001b[0m 0\n"
     ]
    }
   ],
   "source": [
    "graphLib = GraphLib(config='./config_test.yaml')\n",
    "print(graphLib)"
   ]
  },
  {
   "cell_type": "code",
   "execution_count": 4,
   "metadata": {},
   "outputs": [
    {
     "name": "stdout",
     "output_type": "stream",
     "text": [
      "\u001b[95mGenerating modules...\u001b[0m\n",
      "\u001b[95mUsing 3 vertices, 4 labels, max 9 edges\u001b[0m\n",
      "\t\u001b[92mGenerated up to 3 vertices: 8 modules (8 without hashing)\u001b[0m\n",
      "\n",
      "\u001b[95mGenerating heads...\u001b[0m\n",
      "\u001b[95mUsing 6 vertices, 6 labels\u001b[0m\n",
      "\t\u001b[92mGenerated up to 4 vertices: 2 heads (2 without hashing)\u001b[0m\n",
      "\t\u001b[92mGenerated up to 5 vertices: 10 heads (10 without hashing)\u001b[0m\n",
      "\t\u001b[92mGenerated up to 6 vertices: 42 heads (42 without hashing)\u001b[0m\n",
      "\n",
      "\u001b[95mGenerating graphs...\u001b[0m\n",
      "\u001b[95mUsing max 2 modules\u001b[0m\n"
     ]
    },
    {
     "data": {
      "application/vnd.jupyter.widget-view+json": {
       "model_id": "e2de37e7e559439cbb9014185d566548",
       "version_major": 2,
       "version_minor": 0
      },
      "text/plain": [
       "HBox(children=(FloatProgress(value=0.0, description='Generating CNNs with 1 module(s)', max=8.0, style=Progres…"
      ]
     },
     "metadata": {},
     "output_type": "display_data"
    },
    {
     "name": "stdout",
     "output_type": "stream",
     "text": [
      "\n",
      "\t\u001b[92mGenerated up to 1 modules: 336 graphs\u001b[0m\n"
     ]
    },
    {
     "data": {
      "application/vnd.jupyter.widget-view+json": {
       "model_id": "e5e9b4aed87243b4be4c6b3e223aa7ac",
       "version_major": 2,
       "version_minor": 0
      },
      "text/plain": [
       "HBox(children=(FloatProgress(value=0.0, description='Generating CNNs with 2 module(s)', max=64.0, style=Progre…"
      ]
     },
     "metadata": {},
     "output_type": "display_data"
    },
    {
     "name": "stdout",
     "output_type": "stream",
     "text": [
      "\n",
      "\t\u001b[92mGenerated up to 2 modules: 3024 graphs\u001b[0m\n",
      "\u001b[92mGraph library created!\u001b[0m \n",
      "3024 graphs within the design space.\n"
     ]
    }
   ],
   "source": [
    "graphLib.build_library()"
   ]
  },
  {
   "cell_type": "code",
   "execution_count": 5,
   "metadata": {},
   "outputs": [
    {
     "name": "stdout",
     "output_type": "stream",
     "text": [
      "\u001b[92mDataset saved to:\u001b[0m ./dataset.json\n"
     ]
    }
   ],
   "source": [
    "graphLib.save_dataset('./dataset.json')"
   ]
  },
  {
   "cell_type": "code",
   "execution_count": 6,
   "metadata": {},
   "outputs": [
    {
     "data": {
      "text/plain": [
       "\u001b[95mGraph Library with configurations:\u001b[0m\n",
       "{'dataset': 'CIFAR10', 'data_dir': '/scratch/gpfs/stuli/pytorch_datasets/', 'manual_dir': None, 'train_batch_size': 256, 'test_batch_size': 512, 'module_vertices': 3, 'head_vertices': 6, 'max_edges': 9, 'max_modules': 2, 'base_ops': ['conv5x5-bn-relu', 'conv3x3-bn-relu', 'conv1x1-bn-relu', 'maxpool3x3'], 'flatten_ops': ['global-avg-pool', 'flatten'], 'dense_ops': ['dense-1024', 'dense-4096', 'dropout-p5', 'dropout-p4'], 'hash_algo': 'sha256'}\n",
       "\u001b[95mNumber of graphs:\u001b[0m 3024"
      ]
     },
     "execution_count": 6,
     "metadata": {},
     "output_type": "execute_result"
    }
   ],
   "source": [
    "graphLib_new = GraphLib.load_from_dataset('./dataset.json')\n",
    "graphLib_new"
   ]
  },
  {
   "cell_type": "code",
   "execution_count": 7,
   "metadata": {},
   "outputs": [
    {
     "data": {
      "text/plain": [
       "\u001b[95mModel parameters:\u001b[0m None\n",
       "\u001b[95mAccuracies:\u001b[0m {'train': None, 'val': None, 'test': None}\n",
       "\u001b[95mEmbedding:\u001b[0m None\n",
       "\u001b[95mHash:\u001b[0m dc1bcce91c615b8b737be91bbf298911e444764a4326cf339dc9e8f88d3ade1a\n",
       "\u001b[96mModule:\u001b[0m\n",
       "[[0 1 0]\n",
       " [0 0 1]\n",
       " [0 0 0]]\n",
       "\u001b[96mLabels:\u001b[0m['input', 'conv5x5-bn-relu', 'output']\n",
       "\u001b[96mModule:\u001b[0m\n",
       "[[0 1 0 0]\n",
       " [0 0 1 0]\n",
       " [0 0 0 1]\n",
       " [0 0 0 0]]\n",
       "\u001b[96mLabels:\u001b[0m['input', 'global-avg-pool', 'dense_classes', 'output']"
      ]
     },
     "execution_count": 7,
     "metadata": {},
     "output_type": "execute_result"
    }
   ],
   "source": [
    "graphLib_new.library[0]"
   ]
  }
 ],
 "metadata": {
  "kernelspec": {
   "display_name": "txf_design-space [~/.conda/envs/txf_design-space/]",
   "language": "python",
   "name": "conda_txf_design-space"
  },
  "language_info": {
   "codemirror_mode": {
    "name": "ipython",
    "version": 3
   },
   "file_extension": ".py",
   "mimetype": "text/x-python",
   "name": "python",
   "nbconvert_exporter": "python",
   "pygments_lexer": "ipython3",
   "version": "3.8.10"
  }
 },
 "nbformat": 4,
 "nbformat_minor": 4
}
