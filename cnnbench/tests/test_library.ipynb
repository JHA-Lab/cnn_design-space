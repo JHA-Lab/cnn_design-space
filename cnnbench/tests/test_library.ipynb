{
 "cells": [
  {
   "cell_type": "code",
   "execution_count": 6,
   "metadata": {},
   "outputs": [],
   "source": [
    "import os\n",
    "import sys\n",
    "sys.path.append('../')\n",
    "\n",
    "from library import Graph, GraphLib"
   ]
  },
  {
   "cell_type": "code",
   "execution_count": 7,
   "metadata": {},
   "outputs": [
    {
     "name": "stdout",
     "output_type": "stream",
     "text": [
      "\u001b[95mGraph Library with configurations:\u001b[0m\n",
      "{'dataset': 'CIFAR10', 'classes': 10, 'input_channels': 3, 'image_size': 28, 'data_dir': '/scratch/gpfs/stuli/pytorch_datasets/', 'manual_dir': None, 'train_batch_size': 256, 'test_batch_size': 512, 'module_vertices': 4, 'head_vertices': 4, 'max_edges': 9, 'max_modules': 2, 'base_ops': ['conv5x5-bn-relu', 'conv3x3-bn-relu', 'conv1x1-bn-relu', 'maxpool3x3'], 'default_channels': 128, 'default_stride': 1, 'flatten_ops': ['global-avg-pool', 'flatten'], 'dense_ops': ['dense-1024', 'dense-4096', 'dropout-p5', 'dropout-p4'], 'hash_algo': 'sha256'}\n",
      "\u001b[95mNumber of graphs:\u001b[0m 0\n"
     ]
    }
   ],
   "source": [
    "graphLib = GraphLib(config='./config_test.yaml')\n",
    "print(graphLib)"
   ]
  },
  {
   "cell_type": "code",
   "execution_count": 8,
   "metadata": {},
   "outputs": [
    {
     "name": "stdout",
     "output_type": "stream",
     "text": [
      "\u001b[95mGenerating modules...\u001b[0m\n",
      "\u001b[95mUsing 4 vertices, 4 labels, max 9 edges\u001b[0m\n",
      "\t\u001b[92mGenerated up to 3 vertices: 8 modules (8 without hashing)\u001b[0m\n",
      "\t\u001b[92mGenerated up to 4 vertices: 156 modules (168 without hashing)\u001b[0m\n",
      "\n",
      "\u001b[95mGenerating heads...\u001b[0m\n",
      "\u001b[95mUsing 4 vertices, 6 labels\u001b[0m\n",
      "\t\u001b[92mGenerated up to 4 vertices: 2 heads (2 without hashing)\u001b[0m\n",
      "\n",
      "\u001b[95mGenerating graphs...\u001b[0m\n",
      "\u001b[95mUsing max 2 modules\u001b[0m\n"
     ]
    },
    {
     "data": {
      "application/vnd.jupyter.widget-view+json": {
       "model_id": "f00bba0f5b5948688acb9d4fcced2bee",
       "version_major": 2,
       "version_minor": 0
      },
      "text/plain": [
       "HBox(children=(FloatProgress(value=0.0, description='Generating CNNs with 1 module(s)', max=156.0, style=Progr…"
      ]
     },
     "metadata": {},
     "output_type": "display_data"
    },
    {
     "name": "stdout",
     "output_type": "stream",
     "text": [
      "\n",
      "\t\u001b[92mGenerated up to 1 modules: 312 graphs\u001b[0m\n"
     ]
    },
    {
     "data": {
      "application/vnd.jupyter.widget-view+json": {
       "model_id": "58b097f80b894d2e83947ffaa178f72a",
       "version_major": 2,
       "version_minor": 0
      },
      "text/plain": [
       "HBox(children=(FloatProgress(value=0.0, description='Generating CNNs with 2 module(s)', max=24336.0, style=Pro…"
      ]
     },
     "metadata": {},
     "output_type": "display_data"
    },
    {
     "name": "stdout",
     "output_type": "stream",
     "text": [
      "\n",
      "\t\u001b[92mGenerated up to 2 modules: 48824 graphs\u001b[0m\n",
      "\u001b[92mGraph library created!\u001b[0m \n",
      "48824 graphs within the design space.\n"
     ]
    }
   ],
   "source": [
    "graphLib.build_library()"
   ]
  },
  {
   "cell_type": "code",
   "execution_count": 9,
   "metadata": {},
   "outputs": [
    {
     "name": "stdout",
     "output_type": "stream",
     "text": [
      "\u001b[92mDataset saved to:\u001b[0m ./dataset.json\n"
     ]
    }
   ],
   "source": [
    "graphLib.save_dataset('./dataset.json')"
   ]
  },
  {
   "cell_type": "code",
   "execution_count": 10,
   "metadata": {},
   "outputs": [
    {
     "data": {
      "text/plain": [
       "\u001b[95mGraph Library with configurations:\u001b[0m\n",
       "{'dataset': 'CIFAR10', 'classes': 10, 'input_channels': 3, 'image_size': 28, 'data_dir': '/scratch/gpfs/stuli/pytorch_datasets/', 'manual_dir': None, 'train_batch_size': 256, 'test_batch_size': 512, 'module_vertices': 4, 'head_vertices': 4, 'max_edges': 9, 'max_modules': 2, 'base_ops': ['conv5x5-bn-relu', 'conv3x3-bn-relu', 'conv1x1-bn-relu', 'maxpool3x3'], 'default_channels': 128, 'default_stride': 1, 'flatten_ops': ['global-avg-pool', 'flatten'], 'dense_ops': ['dense-1024', 'dense-4096', 'dropout-p5', 'dropout-p4'], 'hash_algo': 'sha256'}\n",
       "\u001b[95mNumber of graphs:\u001b[0m 48824"
      ]
     },
     "execution_count": 10,
     "metadata": {},
     "output_type": "execute_result"
    }
   ],
   "source": [
    "graphLib_new = GraphLib.load_from_dataset('./dataset.json')\n",
    "graphLib_new"
   ]
  },
  {
   "cell_type": "code",
   "execution_count": 11,
   "metadata": {},
   "outputs": [
    {
     "data": {
      "text/plain": [
       "\u001b[95mModel parameters:\u001b[0m None\n",
       "\u001b[95mAccuracies:\u001b[0m {'train': None, 'val': None, 'test': None}\n",
       "\u001b[95mEmbedding:\u001b[0m None\n",
       "\u001b[95mHash:\u001b[0m b6f597c07898c3f16289177fefd5c08ff2ca8cea4df6650145a977616c69f241\n",
       "\u001b[96mModule:\u001b[0m\n",
       "[[0 1 1 1]\n",
       " [0 0 1 1]\n",
       " [0 0 0 1]\n",
       " [0 0 0 0]]\n",
       "\u001b[96mLabels:\u001b[0m['input', 'maxpool3x3', 'maxpool3x3', 'output']\n",
       "\u001b[96mModule:\u001b[0m\n",
       "[[0 1 1 1]\n",
       " [0 0 1 1]\n",
       " [0 0 0 1]\n",
       " [0 0 0 0]]\n",
       "\u001b[96mLabels:\u001b[0m['input', 'maxpool3x3', 'conv3x3-bn-relu', 'output']\n",
       "\u001b[96mModule:\u001b[0m\n",
       "[[0 1 0 0]\n",
       " [0 0 1 0]\n",
       " [0 0 0 1]\n",
       " [0 0 0 0]]\n",
       "\u001b[96mLabels:\u001b[0m['input', 'flatten', 'dense_classes', 'output']"
      ]
     },
     "execution_count": 11,
     "metadata": {},
     "output_type": "execute_result"
    }
   ],
   "source": [
    "import sys\n",
    "sys.path.append('../')\n",
    "\n",
    "from library import Graph, GraphLib\n",
    "\n",
    "graphLib = GraphLib.load_from_dataset('./dataset.json')\n",
    "\n",
    "graphLib.library[-5]"
   ]
  },
  {
   "cell_type": "code",
   "execution_count": 4,
   "metadata": {},
   "outputs": [
    {
     "name": "stdout",
     "output_type": "stream",
     "text": [
      "CNNBenchModel(\n",
      "  (op_m0_v1): MaxPool2d(kernel_size=(3, 3), stride=1, padding=0, dilation=1, ceil_mode=False)\n",
      "  (proj_m0_v1): Conv2d(3, 3, kernel_size=(1, 1), stride=(1, 1))\n",
      "  (op_m0_v2): MaxPool2d(kernel_size=(3, 3), stride=1, padding=0, dilation=1, ceil_mode=False)\n",
      "  (proj_m0_v2): Conv2d(3, 3, kernel_size=(1, 1), stride=(1, 1))\n",
      "  (proj_m0): Conv2d(3, 6, kernel_size=(1, 1), stride=(1, 1))\n",
      "  (op_m1_v1): MaxPool2d(kernel_size=(3, 3), stride=1, padding=0, dilation=1, ceil_mode=False)\n",
      "  (proj_m1_v1): Conv2d(6, 6, kernel_size=(1, 1), stride=(1, 1))\n",
      "  (op_m1_v2): MaxPool2d(kernel_size=(3, 3), stride=1, padding=0, dilation=1, ceil_mode=False)\n",
      "  (proj_m1_v2): Conv2d(6, 6, kernel_size=(1, 1), stride=(1, 1))\n",
      "  (proj_m1): Conv2d(6, 12, kernel_size=(1, 1), stride=(1, 1))\n",
      "  (op_m2_v2): Linear(in_features=6912, out_features=10, bias=True)\n",
      ")\n"
     ]
    }
   ],
   "source": [
    "import sys\n",
    "sys.path.append('../')\n",
    "\n",
    "from library import Graph, GraphLib\n",
    "\n",
    "from model_builder import CNNBenchModel\n",
    "\n",
    "graphLib = GraphLib.load_from_dataset('./dataset.json')\n",
    "\n",
    "model = CNNBenchModel(graphLib.config, graphLib.library[-1])\n",
    "print(model)"
   ]
  },
  {
   "cell_type": "code",
   "execution_count": 5,
   "metadata": {},
   "outputs": [
    {
     "name": "stdout",
     "output_type": "stream",
     "text": [
      "tensor([ 1.5093, -1.3635, -1.8411,  1.1338, -0.3166, -0.4797, -0.2892,  1.6679,\n",
      "         1.2841,  0.9083], grad_fn=<SliceBackward>)\n"
     ]
    }
   ],
   "source": [
    "import torch\n",
    "\n",
    "inp = torch.rand(64, 3, 28, 28)\n",
    "\n",
    "logits = model(inp)\n",
    "\n",
    "print(logits[0, :])"
   ]
  }
 ],
 "metadata": {
  "kernelspec": {
   "display_name": "txf_design-space [~/.conda/envs/txf_design-space/]",
   "language": "python",
   "name": "conda_txf_design-space"
  },
  "language_info": {
   "codemirror_mode": {
    "name": "ipython",
    "version": 3
   },
   "file_extension": ".py",
   "mimetype": "text/x-python",
   "name": "python",
   "nbconvert_exporter": "python",
   "pygments_lexer": "ipython3",
   "version": "3.8.10"
  }
 },
 "nbformat": 4,
 "nbformat_minor": 4
}
