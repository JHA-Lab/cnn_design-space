{
 "cells": [
  {
   "cell_type": "code",
   "execution_count": 2,
   "metadata": {
    "executionInfo": {
     "elapsed": 744,
     "status": "ok",
     "timestamp": 1609338514654,
     "user": {
      "displayName": "Shikhar Tuli",
      "photoUrl": "",
      "userId": "08476644503706754908"
     },
     "user_tz": -330
    },
    "id": "oFhFRmck7NzM"
   },
   "outputs": [
    {
     "ename": "ImportError",
     "evalue": "cannot import name 'model_builder_new' from 'cnnbench.lib' (../../cnnbench/lib/__init__.py)",
     "output_type": "error",
     "traceback": [
      "\u001b[0;31m---------------------------------------------------------------------------\u001b[0m",
      "\u001b[0;31mImportError\u001b[0m                               Traceback (most recent call last)",
      "\u001b[0;32m<ipython-input-2-9b25989fbc30>\u001b[0m in \u001b[0;36m<module>\u001b[0;34m\u001b[0m\n\u001b[1;32m      9\u001b[0m     \u001b[0msys\u001b[0m\u001b[0;34m.\u001b[0m\u001b[0mpath\u001b[0m\u001b[0;34m.\u001b[0m\u001b[0mappend\u001b[0m\u001b[0;34m(\u001b[0m\u001b[0;34m'../../'\u001b[0m\u001b[0;34m)\u001b[0m\u001b[0;34m\u001b[0m\u001b[0;34m\u001b[0m\u001b[0m\n\u001b[1;32m     10\u001b[0m \u001b[0;34m\u001b[0m\u001b[0m\n\u001b[0;32m---> 11\u001b[0;31m \u001b[0;32mfrom\u001b[0m \u001b[0mcnnbench\u001b[0m\u001b[0;34m.\u001b[0m\u001b[0mlib\u001b[0m \u001b[0;32mimport\u001b[0m \u001b[0mgraph_util\u001b[0m\u001b[0;34m,\u001b[0m \u001b[0mmodule_spec\u001b[0m\u001b[0;34m,\u001b[0m \u001b[0mbase_ops\u001b[0m\u001b[0;34m,\u001b[0m \u001b[0mmodel_builder_new\u001b[0m\u001b[0;34m\u001b[0m\u001b[0;34m\u001b[0m\u001b[0m\n\u001b[0m\u001b[1;32m     12\u001b[0m \u001b[0;32mfrom\u001b[0m \u001b[0mcnnbench\u001b[0m\u001b[0;34m.\u001b[0m\u001b[0mlib\u001b[0m \u001b[0;32mimport\u001b[0m \u001b[0mconfig\u001b[0m \u001b[0;32mas\u001b[0m \u001b[0m_config\u001b[0m\u001b[0;34m\u001b[0m\u001b[0;34m\u001b[0m\u001b[0m\n\u001b[1;32m     13\u001b[0m \u001b[0;34m\u001b[0m\u001b[0m\n",
      "\u001b[0;31mImportError\u001b[0m: cannot import name 'model_builder_new' from 'cnnbench.lib' (../../cnnbench/lib/__init__.py)"
     ]
    }
   ],
   "source": [
    "import os\n",
    "import numpy as np\n",
    "import copy\n",
    "import random\n",
    "import sys\n",
    "import tensorflow as tf\n",
    "\n",
    "if '../../' not in sys.path:\n",
    "    sys.path.append('../../')\n",
    "    \n",
    "from cnnbench.lib import graph_util, module_spec, base_ops, model_builder\n",
    "from cnnbench.lib import config as _config\n",
    "\n",
    "config = _config.build_config()\n",
    "\n",
    "is_training = True\n",
    "\n",
    "if config['data_format'] == 'channels_last':\n",
    "  channel_axis = 3\n",
    "elif config['data_format'] == 'channels_first':\n",
    "  # Currently this is not well supported\n",
    "  channel_axis = 1\n",
    "else:\n",
    "  raise ValueError('invalid data_format')"
   ]
  },
  {
   "cell_type": "code",
   "execution_count": null,
   "metadata": {},
   "outputs": [],
   "source": [
    "def get_model(graph):\n",
    "    matrices_list = []\n",
    "    labels_list = []\n",
    "    spec_list = []\n",
    "\n",
    "    for module in graph1:\n",
    "      matrix = np.array(module[0])\n",
    "\n",
    "      # Re-label to config['available_ops']\n",
    "      labels = (['input'] +\n",
    "              [config['available_ops'][lab] for lab in module[1][1:-1]] +\n",
    "              ['output'])\n",
    "\n",
    "      spec = module_spec.ModuleSpec(matrix, labels, config['hash_algo'])\n",
    "\n",
    "      assert spec.valid_spec\n",
    "      assert np.sum(spec.matrix) <= config['max_edges'] \n",
    "\n",
    "      matrices_list.append(matrix)\n",
    "      labels_list.append(labels)\n",
    "      spec_list.append(spec)\n",
    "\n",
    "    input = tf.keras.layers.Input(shape=(224, 224, 3))\n",
    "\n",
    "    if config['run_nasbench']:\n",
    "      # Initial stem convolution\n",
    "      net = base_ops.conv_bn_relu(\n",
    "          input, 3, config['stem_filter_size'],\n",
    "          is_training, config['data_format'])\n",
    "\n",
    "      channels = net.get_shape()[channel_axis]\n",
    "\n",
    "      for module_num in range(len(graph)):\n",
    "        spec = spec_list[module_num]\n",
    "        net = model_builder_new.build_module(\n",
    "          spec,\n",
    "          inputs=net,\n",
    "          channels=channels,\n",
    "          is_training=is_training)\n",
    "\n",
    "      net = tf.keras.layers.GlobalAvgPool2D()(net)\n",
    "\n",
    "      output = tf.keras.layers.Dense(1000, activation='softmax')(net)\n",
    "\n",
    "\n",
    "    model = tf.keras.Model(input, output)\n",
    "    return model"
   ]
  },
  {
   "cell_type": "code",
   "execution_count": null,
   "metadata": {},
   "outputs": [],
   "source": [
    "mat1 = np.zeros((3, 3))\n",
    "mat1[0, 1] = mat1[1, 2] = 1\n",
    "lab1 = [-1, 0, -2]\n",
    "mat2 = copy.deepcopy(mat1)\n",
    "lab2 = [-1, 0, -2]\n",
    "\n",
    "graph1 = [(mat1.astype(int).tolist(), lab1), (mat2.tolist(), lab2)]\n",
    "\n",
    "# mat1 = np.zeros((2, 2))\n",
    "# mat1[0, 1] = 1\n",
    "# lab1 = [-1, -2]\n",
    "# graph1 = [(mat1, lab1)]\n",
    "\n",
    "print('Graph:')\n",
    "for i in range(len(graph1)):\n",
    "    print(f'Matrix:\\n {graph1[i][0]}')\n",
    "    print(f'Labels: {graph1[i][1]}')\n",
    "\n",
    "print(f'Graph hash: {graph_util.hash_graph(graph1)}')\n",
    "\n",
    "model = get_model(graph1)\n",
    "model.summary()"
   ]
  },
  {
   "cell_type": "code",
   "execution_count": null,
   "metadata": {
    "scrolled": true
   },
   "outputs": [],
   "source": [
    "mat3 = np.zeros((4, 4))\n",
    "mat3[0, 1] = mat3[1, 2] = mat3[2, 3] = 1\n",
    "lab3 = [-1, 0, 0, -2]\n",
    "\n",
    "graph2 = [(mat3.astype(int).tolist(), lab3)]\n",
    "\n",
    "print('Graph:')\n",
    "for i in range(len(graph2)):\n",
    "    print(f'Matrix:\\n {graph2[i][0]}')\n",
    "    print(f'Labels:\\n {graph2[i][1]}')\n",
    "\n",
    "print(f'Graph hash: {graph_util.hash_graph(graph2)}')\n",
    "\n",
    "model = get_model(graph2)\n",
    "model.summary()"
   ]
  },
  {
   "cell_type": "code",
   "execution_count": null,
   "metadata": {},
   "outputs": [],
   "source": [
    "graph_util.hash_graph_simple(graph1) == graph_util.hash_graph_simple(graph2) # Should be false"
   ]
  },
  {
   "cell_type": "code",
   "execution_count": null,
   "metadata": {},
   "outputs": [],
   "source": [
    "graph_util.hash_graph(graph1) == graph_util.hash_graph(graph2) # Should be true"
   ]
  },
  {
   "cell_type": "code",
   "execution_count": null,
   "metadata": {},
   "outputs": [],
   "source": [
    "graph_util.compare_graphs(graph1, graph2) # Should be true"
   ]
  }
 ],
 "metadata": {
  "colab": {
   "collapsed_sections": [],
   "name": "nasbench_var.ipynb",
   "provenance": [
    {
     "file_id": "https://github.com/google-research/nasbench/blob/master/NASBench.ipynb",
     "timestamp": 1608040131043
    }
   ]
  },
  "kernelspec": {
   "display_name": "cnnbench [~/.conda/envs/cnnbench/]",
   "language": "python",
   "name": "conda_cnnbench"
  },
  "language_info": {
   "codemirror_mode": {
    "name": "ipython",
    "version": 3
   },
   "file_extension": ".py",
   "mimetype": "text/x-python",
   "name": "python",
   "nbconvert_exporter": "python",
   "pygments_lexer": "ipython3",
   "version": "3.8.5"
  }
 },
 "nbformat": 4,
 "nbformat_minor": 1
}
