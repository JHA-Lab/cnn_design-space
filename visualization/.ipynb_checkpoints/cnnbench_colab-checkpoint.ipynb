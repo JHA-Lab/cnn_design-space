{
 "cells": [
  {
   "cell_type": "code",
   "execution_count": null,
   "metadata": {
    "colab": {
     "base_uri": "https://localhost:8080/"
    },
    "executionInfo": {
     "elapsed": 6590,
     "status": "ok",
     "timestamp": 1610360436201,
     "user": {
      "displayName": "Shikhar Tuli",
      "photoUrl": "",
      "userId": "08476644503706754908"
     },
     "user_tz": -330
    },
    "id": "BPoQqbnX9ODc",
    "outputId": "4ee132b0-9573-4fad-e376-3117ab438b54"
   },
   "outputs": [],
   "source": [
    "!git clone https://github.com/JHA-Lab/cnn_design-space.git\n",
    "%cd cnn_design-space/visualization\n",
    "%ls"
   ]
  },
  {
   "cell_type": "code",
   "execution_count": null,
   "metadata": {
    "executionInfo": {
     "elapsed": 2671,
     "status": "ok",
     "timestamp": 1610360444505,
     "user": {
      "displayName": "Shikhar Tuli",
      "photoUrl": "",
      "userId": "08476644503706754908"
     },
     "user_tz": -330
    },
    "id": "oFhFRmck7NzM"
   },
   "outputs": [],
   "source": [
    "import json\n",
    "import os\n",
    "import re\n",
    "import tensorflow as tf\n",
    "import copy\n",
    "import numpy as np\n",
    "import random\n",
    "import sys\n",
    "\n",
    "if '../' not in sys.path:\n",
    "    sys.path.append('../')\n",
    "    \n",
    "from cnnbench.lib import config as _config\n",
    "from cnnbench.lib import print_util\n",
    "from absl import logging\n",
    "\n",
    "# Set DEBUG to True to print intermediate variables\n",
    "DEBUG = False\n",
    "\n",
    "# Define model directory\n",
    "model_dir = '../results/vertices_2/'"
   ]
  },
  {
   "cell_type": "code",
   "execution_count": null,
   "metadata": {
    "colab": {
     "base_uri": "https://localhost:8080/"
    },
    "executionInfo": {
     "elapsed": 934,
     "status": "ok",
     "timestamp": 1610360459964,
     "user": {
      "displayName": "Shikhar Tuli",
      "photoUrl": "",
      "userId": "08476644503706754908"
     },
     "user_tz": -330
    },
    "id": "TJrjC4s59NMm",
    "outputId": "ffac4117-b440-48ec-f977-0e992a13e189"
   },
   "outputs": [],
   "source": [
    "config = _config.build_config()\n",
    "dataset = None\n",
    "\n",
    "with open(os.path.join(model_dir, 'generated_graphs.json')) as f:\n",
    "    models = json.load(f)\n",
    "\n",
    "if DEBUG: print(f'All hashes: models.keys()')     "
   ]
  },
  {
   "cell_type": "code",
   "execution_count": null,
   "metadata": {
    "colab": {
     "base_uri": "https://localhost:8080/"
    },
    "executionInfo": {
     "elapsed": 1419,
     "status": "ok",
     "timestamp": 1610360466140,
     "user": {
      "displayName": "Shikhar Tuli",
      "photoUrl": "",
      "userId": "08476644503706754908"
     },
     "user_tz": -330
    },
    "id": "kAbnGNuj9NMn",
    "outputId": "2f0eaaae-b173-4021-8647-72bf9441883e"
   },
   "outputs": [],
   "source": [
    "loaded_dataset = tf.data.TFRecordDataset(os.path.join(model_dir, 'cnnbench.tfrecord'))\n",
    "\n",
    "features = {\n",
    "        'graph_adjacencies': tf.io.FixedLenSequenceFeature([], tf.int64, allow_missing=True),\n",
    "        'graph_vertices': tf.io.FixedLenSequenceFeature([], tf.int64, allow_missing=True),\n",
    "        'graph_operations': tf.io.FixedLenFeature([], tf.string),\n",
    "        'trainable_parameters': tf.io.FixedLenFeature([], tf.int64),\n",
    "        'training_time': tf.io.FixedLenFeature([], tf.float32),\n",
    "        'train_accuracy': tf.io.FixedLenFeature([], tf.float32),\n",
    "        'validation_accuracy': tf.io.FixedLenFeature([], tf.float32),\n",
    "        'test_accuracy': tf.io.FixedLenFeature([], tf.float32)}\n",
    "\n",
    "def _parse_image_function(example_proto):\n",
    "  return tf.io.parse_single_example(example_proto, features)\n",
    "\n",
    "parsed_dataset = loaded_dataset.map(_parse_image_function)\n",
    "parsed_dataset\n",
    "for elem in parsed_dataset:\n",
    "    graph_adjacency = elem['graph_adjacencies'].numpy()\n",
    "    dims = elem['graph_vertices'].numpy()\n",
    "    trainable_parameters = elem['trainable_parameters'].numpy()\n",
    "    training_time = elem['training_time'].numpy()\n",
    "    train_accuracy = elem['train_accuracy'].numpy()\n",
    "    validation_accuracy = elem['validation_accuracy'].numpy()\n",
    "    test_accuracy = elem['test_accuracy'].numpy()\n",
    "    graph_operations = elem['graph_operations'].numpy().decode(\"utf-8\")\n",
    "    print(f'{print_util.bcolors.HEADER}Graph:{print_util.bcolors.ENDC}')\n",
    "    for module in range(len(dims)):\n",
    "        print(f'{print_util.bcolors.OKBLUE}Module {module+1}{print_util.bcolors.ENDC}')\n",
    "        module_adjacency = graph_adjacency[np.square(dims[module])*module:np.square(dims[module])*(module+1)]\n",
    "        adjacency = np.array([int(e) for e in list(module_adjacency)], dtype=np.int8)\n",
    "        adjacency = np.reshape(adjacency, (dims[module], dims[module]))\n",
    "        operations = graph_operations.split(',')[dims[module]*module:dims[module]*(module+1)]\n",
    "        \n",
    "    \n",
    "        print(f'Adjacency matrix: \\n{adjacency} \\nOperations: {operations}')\n",
    "    print(f'Trainable parameters: {trainable_parameters} \\nTrain Accuracy: {train_accuracy} \\nValidation Accuracy: {validation_accuracy} \\nTest Accuracy: {test_accuracy}\\n')"
   ]
  }
 ],
 "metadata": {
  "colab": {
   "collapsed_sections": [],
   "name": "cnnbench_colab.ipynb",
   "provenance": [
    {
     "file_id": "https://github.com/google-research/nasbench/blob/master/NASBench.ipynb",
     "timestamp": 1608040131043
    }
   ]
  },
  "kernelspec": {
   "display_name": "cnnbench [~/.conda/envs/cnnbench/]",
   "language": "python",
   "name": "conda_cnnbench"
  },
  "language_info": {
   "codemirror_mode": {
    "name": "ipython",
    "version": 3
   },
   "file_extension": ".py",
   "mimetype": "text/x-python",
   "name": "python",
   "nbconvert_exporter": "python",
   "pygments_lexer": "ipython3",
   "version": "3.8.5"
  }
 },
 "nbformat": 4,
 "nbformat_minor": 1
}
